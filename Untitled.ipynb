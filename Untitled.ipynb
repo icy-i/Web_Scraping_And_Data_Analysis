{
 "cells": [
  {
   "cell_type": "code",
   "execution_count": 1,
   "id": "9c3c348a",
   "metadata": {},
   "outputs": [],
   "source": [
    "import pandas as pd "
   ]
  },
  {
   "cell_type": "code",
   "execution_count": 2,
   "id": "d00aee5b",
   "metadata": {},
   "outputs": [],
   "source": [
    "df = pd.read_json (r'C:\\Users\\shing\\DataAnalysisUsingWebScraping\\Makaan_scrape\\propertyData.json')"
   ]
  },
  {
   "cell_type": "code",
   "execution_count": 3,
   "id": "b6536d6d",
   "metadata": {},
   "outputs": [],
   "source": [
    "df.to_csv (r'C:\\Users\\shing\\DataAnalysisUsingWebScraping\\Makaan_scrape\\Makaan_scrape\\spiders\\propertyData.csv', index = None)"
   ]
  },
  {
   "cell_type": "code",
   "execution_count": 4,
   "id": "93c5be8f",
   "metadata": {},
   "outputs": [],
   "source": [
    "d1=pd.read_csv(\"C:\\\\Users\\\\shing\\\\DataAnalysisUsingWebScraping\\\\Makaan_scrape\\\\Makaan_scrape\\\\spiders\\\\propertyData.csv\")"
   ]
  },
  {
   "cell_type": "code",
   "execution_count": 5,
   "id": "0e3b9e29",
   "metadata": {},
   "outputs": [
    {
     "data": {
      "text/plain": [
       "(55372, 9)"
      ]
     },
     "execution_count": 5,
     "metadata": {},
     "output_type": "execute_result"
    }
   ],
   "source": [
    "d1.shape"
   ]
  },
  {
   "cell_type": "markdown",
   "id": "23b7945d",
   "metadata": {},
   "source": [
    "## Observation\n",
    "    The data we extrated contains 55372 rows and 9 columns"
   ]
  },
  {
   "cell_type": "code",
   "execution_count": 6,
   "id": "0a8e80b7",
   "metadata": {},
   "outputs": [
    {
     "data": {
      "text/html": [
       "<div>\n",
       "<style scoped>\n",
       "    .dataframe tbody tr th:only-of-type {\n",
       "        vertical-align: middle;\n",
       "    }\n",
       "\n",
       "    .dataframe tbody tr th {\n",
       "        vertical-align: top;\n",
       "    }\n",
       "\n",
       "    .dataframe thead th {\n",
       "        text-align: right;\n",
       "    }\n",
       "</style>\n",
       "<table border=\"1\" class=\"dataframe\">\n",
       "  <thead>\n",
       "    <tr style=\"text-align: right;\">\n",
       "      <th></th>\n",
       "      <th>title</th>\n",
       "      <th>projectname</th>\n",
       "      <th>builder</th>\n",
       "      <th>price</th>\n",
       "      <th>per_sqft</th>\n",
       "      <th>area</th>\n",
       "      <th>status</th>\n",
       "      <th>place</th>\n",
       "      <th>rating</th>\n",
       "    </tr>\n",
       "  </thead>\n",
       "  <tbody>\n",
       "    <tr>\n",
       "      <th>0</th>\n",
       "      <td>3  BHK  Apartment</td>\n",
       "      <td>Ecogreen Casa Traimbak</td>\n",
       "      <td>Eco Green Builders</td>\n",
       "      <td>6598000</td>\n",
       "      <td>4,200 / sq ft</td>\n",
       "      <td>1571</td>\n",
       "      <td>Under Construction</td>\n",
       "      <td>Gundlapochampally</td>\n",
       "      <td>0.0</td>\n",
       "    </tr>\n",
       "    <tr>\n",
       "      <th>1</th>\n",
       "      <td>4  BHK  Villa</td>\n",
       "      <td>Elemental Village</td>\n",
       "      <td>Elemental Realty</td>\n",
       "      <td>14800000</td>\n",
       "      <td>7,700 / sq ft</td>\n",
       "      <td>1930</td>\n",
       "      <td>Under Construction</td>\n",
       "      <td>Patancheru</td>\n",
       "      <td>0.0</td>\n",
       "    </tr>\n",
       "    <tr>\n",
       "      <th>2</th>\n",
       "      <td>4  BHK  Villa</td>\n",
       "      <td>Riddhi Laxman County</td>\n",
       "      <td>Riddhi Group</td>\n",
       "      <td>29900000</td>\n",
       "      <td>7,200 / sq ft</td>\n",
       "      <td>4157</td>\n",
       "      <td>Under Construction</td>\n",
       "      <td>Tukkuguda</td>\n",
       "      <td>0.0</td>\n",
       "    </tr>\n",
       "    <tr>\n",
       "      <th>3</th>\n",
       "      <td>4  BHK  Villa</td>\n",
       "      <td>APR Praveens Hillside</td>\n",
       "      <td>APR Group</td>\n",
       "      <td>40800000</td>\n",
       "      <td>12,000 / sq ft</td>\n",
       "      <td>3400</td>\n",
       "      <td>Under Construction</td>\n",
       "      <td>Bachupally</td>\n",
       "      <td>0.0</td>\n",
       "    </tr>\n",
       "    <tr>\n",
       "      <th>4</th>\n",
       "      <td>4  BHK  Villa</td>\n",
       "      <td>Sri GREENTECH O2 Community</td>\n",
       "      <td>Sri Aditya Squares</td>\n",
       "      <td>17500000</td>\n",
       "      <td>5,500 / sq ft</td>\n",
       "      <td>3183</td>\n",
       "      <td>Under Construction</td>\n",
       "      <td>Ramachandrapuram</td>\n",
       "      <td>0.0</td>\n",
       "    </tr>\n",
       "  </tbody>\n",
       "</table>\n",
       "</div>"
      ],
      "text/plain": [
       "               title                 projectname             builder  \\\n",
       "0  3  BHK  Apartment      Ecogreen Casa Traimbak  Eco Green Builders   \n",
       "1      4  BHK  Villa           Elemental Village    Elemental Realty   \n",
       "2      4  BHK  Villa        Riddhi Laxman County        Riddhi Group   \n",
       "3      4  BHK  Villa       APR Praveens Hillside           APR Group   \n",
       "4      4  BHK  Villa  Sri GREENTECH O2 Community  Sri Aditya Squares   \n",
       "\n",
       "      price        per_sqft  area              status              place  \\\n",
       "0   6598000   4,200 / sq ft  1571  Under Construction  Gundlapochampally   \n",
       "1  14800000   7,700 / sq ft  1930  Under Construction         Patancheru   \n",
       "2  29900000   7,200 / sq ft  4157  Under Construction          Tukkuguda   \n",
       "3  40800000  12,000 / sq ft  3400  Under Construction         Bachupally   \n",
       "4  17500000   5,500 / sq ft  3183  Under Construction   Ramachandrapuram   \n",
       "\n",
       "   rating  \n",
       "0     0.0  \n",
       "1     0.0  \n",
       "2     0.0  \n",
       "3     0.0  \n",
       "4     0.0  "
      ]
     },
     "execution_count": 6,
     "metadata": {},
     "output_type": "execute_result"
    }
   ],
   "source": [
    "d1.head()"
   ]
  },
  {
   "cell_type": "code",
   "execution_count": 7,
   "id": "abfa0294",
   "metadata": {},
   "outputs": [
    {
     "data": {
      "text/plain": [
       "Index(['title', 'projectname', 'builder', 'price', 'per_sqft', 'area',\n",
       "       'status', 'place', 'rating'],\n",
       "      dtype='object')"
      ]
     },
     "execution_count": 7,
     "metadata": {},
     "output_type": "execute_result"
    }
   ],
   "source": [
    "d1.keys()"
   ]
  },
  {
   "cell_type": "code",
   "execution_count": 8,
   "id": "81517c6a",
   "metadata": {},
   "outputs": [
    {
     "data": {
      "text/plain": [
       "title           object\n",
       "projectname     object\n",
       "builder         object\n",
       "price            int64\n",
       "per_sqft        object\n",
       "area             int64\n",
       "status          object\n",
       "place           object\n",
       "rating         float64\n",
       "dtype: object"
      ]
     },
     "execution_count": 8,
     "metadata": {},
     "output_type": "execute_result"
    }
   ],
   "source": [
    "d1.dtypes"
   ]
  },
  {
   "cell_type": "markdown",
   "id": "5d164721",
   "metadata": {},
   "source": [
    "## Observations:\n",
    "     Our features in the data set are title, location,price in lakhs, rate_persqft, area_insqft, building_status, agent_rating.\n",
    "    title : Defines the title name of the property, whose datatype is string\n",
    "    location : Defines about the locality(area) of the property, whose datatype is string\n",
    "    price(L) : Defines the price of a property in lakhs, whose datatype is float.\n",
    "    rate_persqft : Defines the rate per unit sqft of property, whose datatype is int.\n",
    "    area_insqft : Defines the total area of property, whose datatype is int.\n",
    "    building_status : Define about the current status of builiding, whose datatype is string\n",
    "    agent_rating : Defines about the rating of agent given by the customers, whose datatype is float."
   ]
  },
  {
   "cell_type": "code",
   "execution_count": 12,
   "id": "373b3aa7",
   "metadata": {},
   "outputs": [
    {
     "data": {
      "text/html": [
       "<div>\n",
       "<style scoped>\n",
       "    .dataframe tbody tr th:only-of-type {\n",
       "        vertical-align: middle;\n",
       "    }\n",
       "\n",
       "    .dataframe tbody tr th {\n",
       "        vertical-align: top;\n",
       "    }\n",
       "\n",
       "    .dataframe thead th {\n",
       "        text-align: right;\n",
       "    }\n",
       "</style>\n",
       "<table border=\"1\" class=\"dataframe\">\n",
       "  <thead>\n",
       "    <tr style=\"text-align: right;\">\n",
       "      <th></th>\n",
       "      <th>price</th>\n",
       "      <th>area</th>\n",
       "      <th>rating</th>\n",
       "    </tr>\n",
       "  </thead>\n",
       "  <tbody>\n",
       "    <tr>\n",
       "      <th>count</th>\n",
       "      <td>5.537200e+04</td>\n",
       "      <td>5.537200e+04</td>\n",
       "      <td>51387.000000</td>\n",
       "    </tr>\n",
       "    <tr>\n",
       "      <th>mean</th>\n",
       "      <td>9.782449e+06</td>\n",
       "      <td>2.060050e+03</td>\n",
       "      <td>0.014928</td>\n",
       "    </tr>\n",
       "    <tr>\n",
       "      <th>std</th>\n",
       "      <td>2.042891e+07</td>\n",
       "      <td>9.929146e+03</td>\n",
       "      <td>0.266375</td>\n",
       "    </tr>\n",
       "    <tr>\n",
       "      <th>min</th>\n",
       "      <td>1.300000e+05</td>\n",
       "      <td>8.000000e+01</td>\n",
       "      <td>0.000000</td>\n",
       "    </tr>\n",
       "    <tr>\n",
       "      <th>25%</th>\n",
       "      <td>2.430000e+06</td>\n",
       "      <td>1.300000e+03</td>\n",
       "      <td>0.000000</td>\n",
       "    </tr>\n",
       "    <tr>\n",
       "      <th>50%</th>\n",
       "      <td>5.748000e+06</td>\n",
       "      <td>1.625000e+03</td>\n",
       "      <td>0.000000</td>\n",
       "    </tr>\n",
       "    <tr>\n",
       "      <th>75%</th>\n",
       "      <td>9.900000e+06</td>\n",
       "      <td>2.043000e+03</td>\n",
       "      <td>0.000000</td>\n",
       "    </tr>\n",
       "    <tr>\n",
       "      <th>max</th>\n",
       "      <td>7.200000e+08</td>\n",
       "      <td>1.745201e+06</td>\n",
       "      <td>4.900000</td>\n",
       "    </tr>\n",
       "  </tbody>\n",
       "</table>\n",
       "</div>"
      ],
      "text/plain": [
       "              price          area        rating\n",
       "count  5.537200e+04  5.537200e+04  51387.000000\n",
       "mean   9.782449e+06  2.060050e+03      0.014928\n",
       "std    2.042891e+07  9.929146e+03      0.266375\n",
       "min    1.300000e+05  8.000000e+01      0.000000\n",
       "25%    2.430000e+06  1.300000e+03      0.000000\n",
       "50%    5.748000e+06  1.625000e+03      0.000000\n",
       "75%    9.900000e+06  2.043000e+03      0.000000\n",
       "max    7.200000e+08  1.745201e+06      4.900000"
      ]
     },
     "execution_count": 12,
     "metadata": {},
     "output_type": "execute_result"
    }
   ],
   "source": [
    "d1.describe()"
   ]
  },
  {
   "cell_type": "code",
   "execution_count": null,
   "id": "578987d8",
   "metadata": {},
   "outputs": [],
   "source": []
  }
 ],
 "metadata": {
  "kernelspec": {
   "display_name": "Python 3 (ipykernel)",
   "language": "python",
   "name": "python3"
  },
  "language_info": {
   "codemirror_mode": {
    "name": "ipython",
    "version": 3
   },
   "file_extension": ".py",
   "mimetype": "text/x-python",
   "name": "python",
   "nbconvert_exporter": "python",
   "pygments_lexer": "ipython3",
   "version": "3.9.7"
  }
 },
 "nbformat": 4,
 "nbformat_minor": 5
}
