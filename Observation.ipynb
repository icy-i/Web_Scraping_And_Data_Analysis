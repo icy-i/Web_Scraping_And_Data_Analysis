{
 "cells": [
  {
   "cell_type": "code",
   "execution_count": 5,
   "id": "7f662dd2",
   "metadata": {},
   "outputs": [],
   "source": [
    "import pandas as pd "
   ]
  },
  {
   "cell_type": "code",
   "execution_count": 16,
   "id": "13459735",
   "metadata": {},
   "outputs": [],
   "source": [
    "df = pd.read_json (r'C:\\Users\\shing\\DataAnalysisUsingWebScraping\\Makaan_scrape\\dataWithStartUrls.json')"
   ]
  },
  {
   "cell_type": "code",
   "execution_count": 17,
   "id": "b325e5c3",
   "metadata": {},
   "outputs": [],
   "source": [
    "df.to_csv (r'C:\\Users\\shing\\DataAnalysisUsingWebScraping\\Makaan_scrape\\Makaan_scrape\\spiders\\o2.csv', index = None)"
   ]
  },
  {
   "cell_type": "code",
   "execution_count": 18,
   "id": "2be11ff5",
   "metadata": {},
   "outputs": [],
   "source": [
    "d1=pd.read_csv(\"C:\\\\Users\\\\shing\\\\DataAnalysisUsingWebScraping\\\\Makaan_scrape\\\\Makaan_scrape\\\\spiders\\\\o2.csv\")"
   ]
  },
  {
   "cell_type": "code",
   "execution_count": 19,
   "id": "20677ba8",
   "metadata": {},
   "outputs": [
    {
     "data": {
      "text/plain": [
       "(24020, 9)"
      ]
     },
     "execution_count": 19,
     "metadata": {},
     "output_type": "execute_result"
    }
   ],
   "source": [
    "d1.shape"
   ]
  },
  {
   "cell_type": "code",
   "execution_count": 7,
   "id": "9b6652d3",
   "metadata": {},
   "outputs": [
    {
     "data": {
      "text/html": [
       "<div>\n",
       "<style scoped>\n",
       "    .dataframe tbody tr th:only-of-type {\n",
       "        vertical-align: middle;\n",
       "    }\n",
       "\n",
       "    .dataframe tbody tr th {\n",
       "        vertical-align: top;\n",
       "    }\n",
       "\n",
       "    .dataframe thead th {\n",
       "        text-align: right;\n",
       "    }\n",
       "</style>\n",
       "<table border=\"1\" class=\"dataframe\">\n",
       "  <thead>\n",
       "    <tr style=\"text-align: right;\">\n",
       "      <th></th>\n",
       "      <th>title</th>\n",
       "      <th>projectname</th>\n",
       "      <th>builder</th>\n",
       "      <th>price</th>\n",
       "      <th>per_sqft</th>\n",
       "      <th>area</th>\n",
       "      <th>status</th>\n",
       "      <th>place</th>\n",
       "      <th>rating</th>\n",
       "    </tr>\n",
       "  </thead>\n",
       "  <tbody>\n",
       "    <tr>\n",
       "      <th>0</th>\n",
       "      <td>3  BHK  Apartment</td>\n",
       "      <td>Ecogreen Casa Traimbak</td>\n",
       "      <td>Eco Green Builders</td>\n",
       "      <td>6598000</td>\n",
       "      <td>4,200 / sq ft</td>\n",
       "      <td>1571</td>\n",
       "      <td>Under Construction</td>\n",
       "      <td>Gundlapochampally</td>\n",
       "      <td>0.0</td>\n",
       "    </tr>\n",
       "    <tr>\n",
       "      <th>1</th>\n",
       "      <td>4  BHK  Villa</td>\n",
       "      <td>Elemental Village</td>\n",
       "      <td>Elemental Realty</td>\n",
       "      <td>14800000</td>\n",
       "      <td>7,700 / sq ft</td>\n",
       "      <td>1930</td>\n",
       "      <td>Under Construction</td>\n",
       "      <td>Patancheru</td>\n",
       "      <td>0.0</td>\n",
       "    </tr>\n",
       "    <tr>\n",
       "      <th>2</th>\n",
       "      <td>4  BHK  Villa</td>\n",
       "      <td>Riddhi Laxman County</td>\n",
       "      <td>Riddhi Group</td>\n",
       "      <td>29900000</td>\n",
       "      <td>7,200 / sq ft</td>\n",
       "      <td>4157</td>\n",
       "      <td>Under Construction</td>\n",
       "      <td>Tukkuguda</td>\n",
       "      <td>0.0</td>\n",
       "    </tr>\n",
       "    <tr>\n",
       "      <th>3</th>\n",
       "      <td>4  BHK  Villa</td>\n",
       "      <td>APR Praveens Hillside</td>\n",
       "      <td>APR Group</td>\n",
       "      <td>40800000</td>\n",
       "      <td>12,000 / sq ft</td>\n",
       "      <td>3400</td>\n",
       "      <td>Under Construction</td>\n",
       "      <td>Bachupally</td>\n",
       "      <td>0.0</td>\n",
       "    </tr>\n",
       "    <tr>\n",
       "      <th>4</th>\n",
       "      <td>4  BHK  Villa</td>\n",
       "      <td>Sri GREENTECH O2 Community</td>\n",
       "      <td>Sri Aditya Squares</td>\n",
       "      <td>17500000</td>\n",
       "      <td>5,500 / sq ft</td>\n",
       "      <td>3183</td>\n",
       "      <td>Under Construction</td>\n",
       "      <td>Ramachandrapuram</td>\n",
       "      <td>0.0</td>\n",
       "    </tr>\n",
       "  </tbody>\n",
       "</table>\n",
       "</div>"
      ],
      "text/plain": [
       "               title                 projectname             builder  \\\n",
       "0  3  BHK  Apartment      Ecogreen Casa Traimbak  Eco Green Builders   \n",
       "1      4  BHK  Villa           Elemental Village    Elemental Realty   \n",
       "2      4  BHK  Villa        Riddhi Laxman County        Riddhi Group   \n",
       "3      4  BHK  Villa       APR Praveens Hillside           APR Group   \n",
       "4      4  BHK  Villa  Sri GREENTECH O2 Community  Sri Aditya Squares   \n",
       "\n",
       "      price        per_sqft  area              status              place  \\\n",
       "0   6598000   4,200 / sq ft  1571  Under Construction  Gundlapochampally   \n",
       "1  14800000   7,700 / sq ft  1930  Under Construction         Patancheru   \n",
       "2  29900000   7,200 / sq ft  4157  Under Construction          Tukkuguda   \n",
       "3  40800000  12,000 / sq ft  3400  Under Construction         Bachupally   \n",
       "4  17500000   5,500 / sq ft  3183  Under Construction   Ramachandrapuram   \n",
       "\n",
       "   rating  \n",
       "0     0.0  \n",
       "1     0.0  \n",
       "2     0.0  \n",
       "3     0.0  \n",
       "4     0.0  "
      ]
     },
     "execution_count": 7,
     "metadata": {},
     "output_type": "execute_result"
    }
   ],
   "source": [
    "d1.head()"
   ]
  },
  {
   "cell_type": "code",
   "execution_count": 8,
   "id": "16964612",
   "metadata": {},
   "outputs": [
    {
     "data": {
      "text/html": [
       "<div>\n",
       "<style scoped>\n",
       "    .dataframe tbody tr th:only-of-type {\n",
       "        vertical-align: middle;\n",
       "    }\n",
       "\n",
       "    .dataframe tbody tr th {\n",
       "        vertical-align: top;\n",
       "    }\n",
       "\n",
       "    .dataframe thead th {\n",
       "        text-align: right;\n",
       "    }\n",
       "</style>\n",
       "<table border=\"1\" class=\"dataframe\">\n",
       "  <thead>\n",
       "    <tr style=\"text-align: right;\">\n",
       "      <th></th>\n",
       "      <th>title</th>\n",
       "      <th>projectname</th>\n",
       "      <th>builder</th>\n",
       "      <th>price</th>\n",
       "      <th>per_sqft</th>\n",
       "      <th>area</th>\n",
       "      <th>status</th>\n",
       "      <th>place</th>\n",
       "      <th>rating</th>\n",
       "    </tr>\n",
       "  </thead>\n",
       "  <tbody>\n",
       "    <tr>\n",
       "      <th>24015</th>\n",
       "      <td>Residential Plot</td>\n",
       "      <td>Apple Gate Royal Farm</td>\n",
       "      <td>Soniya Estate</td>\n",
       "      <td>1123000</td>\n",
       "      <td>829 / sq ft</td>\n",
       "      <td>1354</td>\n",
       "      <td>Resale</td>\n",
       "      <td>Shankarpalli</td>\n",
       "      <td>0.0</td>\n",
       "    </tr>\n",
       "    <tr>\n",
       "      <th>24016</th>\n",
       "      <td>Residential Plot</td>\n",
       "      <td>Agrigold Fortune Bhagyanagar</td>\n",
       "      <td>Soniya Estate</td>\n",
       "      <td>1356000</td>\n",
       "      <td>831 / sq ft</td>\n",
       "      <td>1630</td>\n",
       "      <td>Resale</td>\n",
       "      <td>Kothur</td>\n",
       "      <td>0.0</td>\n",
       "    </tr>\n",
       "    <tr>\n",
       "      <th>24017</th>\n",
       "      <td>Residential Plot</td>\n",
       "      <td>In Style Residency</td>\n",
       "      <td>Soniya Estate</td>\n",
       "      <td>1250000</td>\n",
       "      <td>1,045 / sq ft</td>\n",
       "      <td>1196</td>\n",
       "      <td>New</td>\n",
       "      <td>Vinayak Nagar</td>\n",
       "      <td>0.0</td>\n",
       "    </tr>\n",
       "    <tr>\n",
       "      <th>24018</th>\n",
       "      <td>Residential Plot</td>\n",
       "      <td>Agrigold Fortune Bhagyanagar</td>\n",
       "      <td>Soniya Estate</td>\n",
       "      <td>1352000</td>\n",
       "      <td>814 / sq ft</td>\n",
       "      <td>1660</td>\n",
       "      <td>Resale</td>\n",
       "      <td>Kothur</td>\n",
       "      <td>0.0</td>\n",
       "    </tr>\n",
       "    <tr>\n",
       "      <th>24019</th>\n",
       "      <td>Residential Plot</td>\n",
       "      <td>Agrigold Eco Joyland</td>\n",
       "      <td>Soniya Estate</td>\n",
       "      <td>1356000</td>\n",
       "      <td>681 / sq ft</td>\n",
       "      <td>1990</td>\n",
       "      <td>Resale</td>\n",
       "      <td>Shadnagar</td>\n",
       "      <td>0.0</td>\n",
       "    </tr>\n",
       "  </tbody>\n",
       "</table>\n",
       "</div>"
      ],
      "text/plain": [
       "                  title                   projectname        builder    price  \\\n",
       "24015  Residential Plot         Apple Gate Royal Farm  Soniya Estate  1123000   \n",
       "24016  Residential Plot  Agrigold Fortune Bhagyanagar  Soniya Estate  1356000   \n",
       "24017  Residential Plot            In Style Residency  Soniya Estate  1250000   \n",
       "24018  Residential Plot  Agrigold Fortune Bhagyanagar  Soniya Estate  1352000   \n",
       "24019  Residential Plot          Agrigold Eco Joyland  Soniya Estate  1356000   \n",
       "\n",
       "            per_sqft  area  status          place  rating  \n",
       "24015    829 / sq ft  1354  Resale   Shankarpalli     0.0  \n",
       "24016    831 / sq ft  1630  Resale         Kothur     0.0  \n",
       "24017  1,045 / sq ft  1196     New  Vinayak Nagar     0.0  \n",
       "24018    814 / sq ft  1660  Resale         Kothur     0.0  \n",
       "24019    681 / sq ft  1990  Resale      Shadnagar     0.0  "
      ]
     },
     "execution_count": 8,
     "metadata": {},
     "output_type": "execute_result"
    }
   ],
   "source": [
    "d1.tail()"
   ]
  },
  {
   "cell_type": "code",
   "execution_count": 9,
   "id": "8065f70e",
   "metadata": {},
   "outputs": [],
   "source": [
    "d1['per_sqft'] = df['per_sqft'].str.replace(',','').str.replace('/ sq ft','')"
   ]
  },
  {
   "cell_type": "code",
   "execution_count": 10,
   "id": "3f84b3f0",
   "metadata": {},
   "outputs": [
    {
     "data": {
      "text/html": [
       "<div>\n",
       "<style scoped>\n",
       "    .dataframe tbody tr th:only-of-type {\n",
       "        vertical-align: middle;\n",
       "    }\n",
       "\n",
       "    .dataframe tbody tr th {\n",
       "        vertical-align: top;\n",
       "    }\n",
       "\n",
       "    .dataframe thead th {\n",
       "        text-align: right;\n",
       "    }\n",
       "</style>\n",
       "<table border=\"1\" class=\"dataframe\">\n",
       "  <thead>\n",
       "    <tr style=\"text-align: right;\">\n",
       "      <th></th>\n",
       "      <th>title</th>\n",
       "      <th>projectname</th>\n",
       "      <th>builder</th>\n",
       "      <th>price</th>\n",
       "      <th>per_sqft</th>\n",
       "      <th>area</th>\n",
       "      <th>status</th>\n",
       "      <th>place</th>\n",
       "      <th>rating</th>\n",
       "    </tr>\n",
       "  </thead>\n",
       "  <tbody>\n",
       "    <tr>\n",
       "      <th>0</th>\n",
       "      <td>3  BHK  Apartment</td>\n",
       "      <td>Ecogreen Casa Traimbak</td>\n",
       "      <td>Eco Green Builders</td>\n",
       "      <td>6598000</td>\n",
       "      <td>4200</td>\n",
       "      <td>1571</td>\n",
       "      <td>Under Construction</td>\n",
       "      <td>Gundlapochampally</td>\n",
       "      <td>0.0</td>\n",
       "    </tr>\n",
       "    <tr>\n",
       "      <th>1</th>\n",
       "      <td>4  BHK  Villa</td>\n",
       "      <td>Elemental Village</td>\n",
       "      <td>Elemental Realty</td>\n",
       "      <td>14800000</td>\n",
       "      <td>7700</td>\n",
       "      <td>1930</td>\n",
       "      <td>Under Construction</td>\n",
       "      <td>Patancheru</td>\n",
       "      <td>0.0</td>\n",
       "    </tr>\n",
       "    <tr>\n",
       "      <th>2</th>\n",
       "      <td>4  BHK  Villa</td>\n",
       "      <td>Riddhi Laxman County</td>\n",
       "      <td>Riddhi Group</td>\n",
       "      <td>29900000</td>\n",
       "      <td>7200</td>\n",
       "      <td>4157</td>\n",
       "      <td>Under Construction</td>\n",
       "      <td>Tukkuguda</td>\n",
       "      <td>0.0</td>\n",
       "    </tr>\n",
       "    <tr>\n",
       "      <th>3</th>\n",
       "      <td>4  BHK  Villa</td>\n",
       "      <td>APR Praveens Hillside</td>\n",
       "      <td>APR Group</td>\n",
       "      <td>40800000</td>\n",
       "      <td>12000</td>\n",
       "      <td>3400</td>\n",
       "      <td>Under Construction</td>\n",
       "      <td>Bachupally</td>\n",
       "      <td>0.0</td>\n",
       "    </tr>\n",
       "    <tr>\n",
       "      <th>4</th>\n",
       "      <td>4  BHK  Villa</td>\n",
       "      <td>Sri GREENTECH O2 Community</td>\n",
       "      <td>Sri Aditya Squares</td>\n",
       "      <td>17500000</td>\n",
       "      <td>5500</td>\n",
       "      <td>3183</td>\n",
       "      <td>Under Construction</td>\n",
       "      <td>Ramachandrapuram</td>\n",
       "      <td>0.0</td>\n",
       "    </tr>\n",
       "  </tbody>\n",
       "</table>\n",
       "</div>"
      ],
      "text/plain": [
       "               title                 projectname             builder  \\\n",
       "0  3  BHK  Apartment      Ecogreen Casa Traimbak  Eco Green Builders   \n",
       "1      4  BHK  Villa           Elemental Village    Elemental Realty   \n",
       "2      4  BHK  Villa        Riddhi Laxman County        Riddhi Group   \n",
       "3      4  BHK  Villa       APR Praveens Hillside           APR Group   \n",
       "4      4  BHK  Villa  Sri GREENTECH O2 Community  Sri Aditya Squares   \n",
       "\n",
       "      price per_sqft  area              status              place  rating  \n",
       "0   6598000    4200   1571  Under Construction  Gundlapochampally     0.0  \n",
       "1  14800000    7700   1930  Under Construction         Patancheru     0.0  \n",
       "2  29900000    7200   4157  Under Construction          Tukkuguda     0.0  \n",
       "3  40800000   12000   3400  Under Construction         Bachupally     0.0  \n",
       "4  17500000    5500   3183  Under Construction   Ramachandrapuram     0.0  "
      ]
     },
     "execution_count": 10,
     "metadata": {},
     "output_type": "execute_result"
    }
   ],
   "source": [
    "d1.head()"
   ]
  },
  {
   "cell_type": "code",
   "execution_count": 11,
   "id": "7e1f382d",
   "metadata": {},
   "outputs": [
    {
     "data": {
      "text/html": [
       "<div>\n",
       "<style scoped>\n",
       "    .dataframe tbody tr th:only-of-type {\n",
       "        vertical-align: middle;\n",
       "    }\n",
       "\n",
       "    .dataframe tbody tr th {\n",
       "        vertical-align: top;\n",
       "    }\n",
       "\n",
       "    .dataframe thead th {\n",
       "        text-align: right;\n",
       "    }\n",
       "</style>\n",
       "<table border=\"1\" class=\"dataframe\">\n",
       "  <thead>\n",
       "    <tr style=\"text-align: right;\">\n",
       "      <th></th>\n",
       "      <th>title</th>\n",
       "      <th>projectname</th>\n",
       "      <th>builder</th>\n",
       "      <th>price</th>\n",
       "      <th>per_sqft</th>\n",
       "      <th>area</th>\n",
       "      <th>status</th>\n",
       "      <th>place</th>\n",
       "      <th>rating</th>\n",
       "    </tr>\n",
       "  </thead>\n",
       "  <tbody>\n",
       "    <tr>\n",
       "      <th>24015</th>\n",
       "      <td>Residential Plot</td>\n",
       "      <td>Apple Gate Royal Farm</td>\n",
       "      <td>Soniya Estate</td>\n",
       "      <td>1123000</td>\n",
       "      <td>829</td>\n",
       "      <td>1354</td>\n",
       "      <td>Resale</td>\n",
       "      <td>Shankarpalli</td>\n",
       "      <td>0.0</td>\n",
       "    </tr>\n",
       "    <tr>\n",
       "      <th>24016</th>\n",
       "      <td>Residential Plot</td>\n",
       "      <td>Agrigold Fortune Bhagyanagar</td>\n",
       "      <td>Soniya Estate</td>\n",
       "      <td>1356000</td>\n",
       "      <td>831</td>\n",
       "      <td>1630</td>\n",
       "      <td>Resale</td>\n",
       "      <td>Kothur</td>\n",
       "      <td>0.0</td>\n",
       "    </tr>\n",
       "    <tr>\n",
       "      <th>24017</th>\n",
       "      <td>Residential Plot</td>\n",
       "      <td>In Style Residency</td>\n",
       "      <td>Soniya Estate</td>\n",
       "      <td>1250000</td>\n",
       "      <td>1045</td>\n",
       "      <td>1196</td>\n",
       "      <td>New</td>\n",
       "      <td>Vinayak Nagar</td>\n",
       "      <td>0.0</td>\n",
       "    </tr>\n",
       "    <tr>\n",
       "      <th>24018</th>\n",
       "      <td>Residential Plot</td>\n",
       "      <td>Agrigold Fortune Bhagyanagar</td>\n",
       "      <td>Soniya Estate</td>\n",
       "      <td>1352000</td>\n",
       "      <td>814</td>\n",
       "      <td>1660</td>\n",
       "      <td>Resale</td>\n",
       "      <td>Kothur</td>\n",
       "      <td>0.0</td>\n",
       "    </tr>\n",
       "    <tr>\n",
       "      <th>24019</th>\n",
       "      <td>Residential Plot</td>\n",
       "      <td>Agrigold Eco Joyland</td>\n",
       "      <td>Soniya Estate</td>\n",
       "      <td>1356000</td>\n",
       "      <td>681</td>\n",
       "      <td>1990</td>\n",
       "      <td>Resale</td>\n",
       "      <td>Shadnagar</td>\n",
       "      <td>0.0</td>\n",
       "    </tr>\n",
       "  </tbody>\n",
       "</table>\n",
       "</div>"
      ],
      "text/plain": [
       "                  title                   projectname        builder    price  \\\n",
       "24015  Residential Plot         Apple Gate Royal Farm  Soniya Estate  1123000   \n",
       "24016  Residential Plot  Agrigold Fortune Bhagyanagar  Soniya Estate  1356000   \n",
       "24017  Residential Plot            In Style Residency  Soniya Estate  1250000   \n",
       "24018  Residential Plot  Agrigold Fortune Bhagyanagar  Soniya Estate  1352000   \n",
       "24019  Residential Plot          Agrigold Eco Joyland  Soniya Estate  1356000   \n",
       "\n",
       "      per_sqft  area  status          place  rating  \n",
       "24015     829   1354  Resale   Shankarpalli     0.0  \n",
       "24016     831   1630  Resale         Kothur     0.0  \n",
       "24017    1045   1196     New  Vinayak Nagar     0.0  \n",
       "24018     814   1660  Resale         Kothur     0.0  \n",
       "24019     681   1990  Resale      Shadnagar     0.0  "
      ]
     },
     "execution_count": 11,
     "metadata": {},
     "output_type": "execute_result"
    }
   ],
   "source": [
    "d1.tail()"
   ]
  },
  {
   "cell_type": "code",
   "execution_count": 12,
   "id": "0ff8c81e",
   "metadata": {},
   "outputs": [],
   "source": [
    "d1['per_sqft']=d1['per_sqft'].astype(int)"
   ]
  },
  {
   "cell_type": "code",
   "execution_count": 13,
   "id": "41e558a6",
   "metadata": {},
   "outputs": [
    {
     "data": {
      "text/plain": [
       "title           object\n",
       "projectname     object\n",
       "builder         object\n",
       "price            int64\n",
       "per_sqft         int32\n",
       "area             int64\n",
       "status          object\n",
       "place           object\n",
       "rating         float64\n",
       "dtype: object"
      ]
     },
     "execution_count": 13,
     "metadata": {},
     "output_type": "execute_result"
    }
   ],
   "source": [
    "d1.dtypes"
   ]
  },
  {
   "cell_type": "code",
   "execution_count": 14,
   "id": "4d13ead3",
   "metadata": {},
   "outputs": [
    {
     "data": {
      "text/html": [
       "<div>\n",
       "<style scoped>\n",
       "    .dataframe tbody tr th:only-of-type {\n",
       "        vertical-align: middle;\n",
       "    }\n",
       "\n",
       "    .dataframe tbody tr th {\n",
       "        vertical-align: top;\n",
       "    }\n",
       "\n",
       "    .dataframe thead th {\n",
       "        text-align: right;\n",
       "    }\n",
       "</style>\n",
       "<table border=\"1\" class=\"dataframe\">\n",
       "  <thead>\n",
       "    <tr style=\"text-align: right;\">\n",
       "      <th></th>\n",
       "      <th>price</th>\n",
       "      <th>per_sqft</th>\n",
       "      <th>area</th>\n",
       "      <th>rating</th>\n",
       "    </tr>\n",
       "  </thead>\n",
       "  <tbody>\n",
       "    <tr>\n",
       "      <th>count</th>\n",
       "      <td>2.402000e+04</td>\n",
       "      <td>24020.000000</td>\n",
       "      <td>24020.000000</td>\n",
       "      <td>22654.000000</td>\n",
       "    </tr>\n",
       "    <tr>\n",
       "      <th>mean</th>\n",
       "      <td>9.098851e+06</td>\n",
       "      <td>4359.897086</td>\n",
       "      <td>2017.073439</td>\n",
       "      <td>0.025073</td>\n",
       "    </tr>\n",
       "    <tr>\n",
       "      <th>std</th>\n",
       "      <td>1.766244e+07</td>\n",
       "      <td>4155.712572</td>\n",
       "      <td>7130.595596</td>\n",
       "      <td>0.345144</td>\n",
       "    </tr>\n",
       "    <tr>\n",
       "      <th>min</th>\n",
       "      <td>1.300000e+05</td>\n",
       "      <td>110.000000</td>\n",
       "      <td>118.000000</td>\n",
       "      <td>0.000000</td>\n",
       "    </tr>\n",
       "    <tr>\n",
       "      <th>25%</th>\n",
       "      <td>2.277750e+06</td>\n",
       "      <td>1333.000000</td>\n",
       "      <td>1300.000000</td>\n",
       "      <td>0.000000</td>\n",
       "    </tr>\n",
       "    <tr>\n",
       "      <th>50%</th>\n",
       "      <td>5.499000e+06</td>\n",
       "      <td>4166.000000</td>\n",
       "      <td>1630.000000</td>\n",
       "      <td>0.000000</td>\n",
       "    </tr>\n",
       "    <tr>\n",
       "      <th>75%</th>\n",
       "      <td>9.494750e+06</td>\n",
       "      <td>6046.500000</td>\n",
       "      <td>2020.000000</td>\n",
       "      <td>0.000000</td>\n",
       "    </tr>\n",
       "    <tr>\n",
       "      <th>max</th>\n",
       "      <td>7.200000e+08</td>\n",
       "      <td>128000.000000</td>\n",
       "      <td>871200.000000</td>\n",
       "      <td>4.800000</td>\n",
       "    </tr>\n",
       "  </tbody>\n",
       "</table>\n",
       "</div>"
      ],
      "text/plain": [
       "              price       per_sqft           area        rating\n",
       "count  2.402000e+04   24020.000000   24020.000000  22654.000000\n",
       "mean   9.098851e+06    4359.897086    2017.073439      0.025073\n",
       "std    1.766244e+07    4155.712572    7130.595596      0.345144\n",
       "min    1.300000e+05     110.000000     118.000000      0.000000\n",
       "25%    2.277750e+06    1333.000000    1300.000000      0.000000\n",
       "50%    5.499000e+06    4166.000000    1630.000000      0.000000\n",
       "75%    9.494750e+06    6046.500000    2020.000000      0.000000\n",
       "max    7.200000e+08  128000.000000  871200.000000      4.800000"
      ]
     },
     "execution_count": 14,
     "metadata": {},
     "output_type": "execute_result"
    }
   ],
   "source": [
    "d1.describe()"
   ]
  },
  {
   "cell_type": "code",
   "execution_count": 15,
   "id": "daf40055",
   "metadata": {},
   "outputs": [],
   "source": [
    "d1=d1.drop_duplicates()"
   ]
  },
  {
   "cell_type": "code",
   "execution_count": 16,
   "id": "f6096e87",
   "metadata": {},
   "outputs": [],
   "source": [
    "d1=d1.reset_index()"
   ]
  },
  {
   "cell_type": "code",
   "execution_count": 17,
   "id": "00696f55",
   "metadata": {},
   "outputs": [
    {
     "data": {
      "text/html": [
       "<div>\n",
       "<style scoped>\n",
       "    .dataframe tbody tr th:only-of-type {\n",
       "        vertical-align: middle;\n",
       "    }\n",
       "\n",
       "    .dataframe tbody tr th {\n",
       "        vertical-align: top;\n",
       "    }\n",
       "\n",
       "    .dataframe thead th {\n",
       "        text-align: right;\n",
       "    }\n",
       "</style>\n",
       "<table border=\"1\" class=\"dataframe\">\n",
       "  <thead>\n",
       "    <tr style=\"text-align: right;\">\n",
       "      <th></th>\n",
       "      <th>index</th>\n",
       "      <th>title</th>\n",
       "      <th>projectname</th>\n",
       "      <th>builder</th>\n",
       "      <th>price</th>\n",
       "      <th>per_sqft</th>\n",
       "      <th>area</th>\n",
       "      <th>status</th>\n",
       "      <th>place</th>\n",
       "      <th>rating</th>\n",
       "    </tr>\n",
       "  </thead>\n",
       "  <tbody>\n",
       "    <tr>\n",
       "      <th>0</th>\n",
       "      <td>0</td>\n",
       "      <td>3  BHK  Apartment</td>\n",
       "      <td>Ecogreen Casa Traimbak</td>\n",
       "      <td>Eco Green Builders</td>\n",
       "      <td>6598000</td>\n",
       "      <td>4200</td>\n",
       "      <td>1571</td>\n",
       "      <td>Under Construction</td>\n",
       "      <td>Gundlapochampally</td>\n",
       "      <td>0.0</td>\n",
       "    </tr>\n",
       "    <tr>\n",
       "      <th>1</th>\n",
       "      <td>1</td>\n",
       "      <td>4  BHK  Villa</td>\n",
       "      <td>Elemental Village</td>\n",
       "      <td>Elemental Realty</td>\n",
       "      <td>14800000</td>\n",
       "      <td>7700</td>\n",
       "      <td>1930</td>\n",
       "      <td>Under Construction</td>\n",
       "      <td>Patancheru</td>\n",
       "      <td>0.0</td>\n",
       "    </tr>\n",
       "    <tr>\n",
       "      <th>2</th>\n",
       "      <td>2</td>\n",
       "      <td>4  BHK  Villa</td>\n",
       "      <td>Riddhi Laxman County</td>\n",
       "      <td>Riddhi Group</td>\n",
       "      <td>29900000</td>\n",
       "      <td>7200</td>\n",
       "      <td>4157</td>\n",
       "      <td>Under Construction</td>\n",
       "      <td>Tukkuguda</td>\n",
       "      <td>0.0</td>\n",
       "    </tr>\n",
       "    <tr>\n",
       "      <th>3</th>\n",
       "      <td>3</td>\n",
       "      <td>4  BHK  Villa</td>\n",
       "      <td>APR Praveens Hillside</td>\n",
       "      <td>APR Group</td>\n",
       "      <td>40800000</td>\n",
       "      <td>12000</td>\n",
       "      <td>3400</td>\n",
       "      <td>Under Construction</td>\n",
       "      <td>Bachupally</td>\n",
       "      <td>0.0</td>\n",
       "    </tr>\n",
       "    <tr>\n",
       "      <th>4</th>\n",
       "      <td>4</td>\n",
       "      <td>4  BHK  Villa</td>\n",
       "      <td>Sri GREENTECH O2 Community</td>\n",
       "      <td>Sri Aditya Squares</td>\n",
       "      <td>17500000</td>\n",
       "      <td>5500</td>\n",
       "      <td>3183</td>\n",
       "      <td>Under Construction</td>\n",
       "      <td>Ramachandrapuram</td>\n",
       "      <td>0.0</td>\n",
       "    </tr>\n",
       "  </tbody>\n",
       "</table>\n",
       "</div>"
      ],
      "text/plain": [
       "   index              title                 projectname             builder  \\\n",
       "0      0  3  BHK  Apartment      Ecogreen Casa Traimbak  Eco Green Builders   \n",
       "1      1      4  BHK  Villa           Elemental Village    Elemental Realty   \n",
       "2      2      4  BHK  Villa        Riddhi Laxman County        Riddhi Group   \n",
       "3      3      4  BHK  Villa       APR Praveens Hillside           APR Group   \n",
       "4      4      4  BHK  Villa  Sri GREENTECH O2 Community  Sri Aditya Squares   \n",
       "\n",
       "      price  per_sqft  area              status              place  rating  \n",
       "0   6598000      4200  1571  Under Construction  Gundlapochampally     0.0  \n",
       "1  14800000      7700  1930  Under Construction         Patancheru     0.0  \n",
       "2  29900000      7200  4157  Under Construction          Tukkuguda     0.0  \n",
       "3  40800000     12000  3400  Under Construction         Bachupally     0.0  \n",
       "4  17500000      5500  3183  Under Construction   Ramachandrapuram     0.0  "
      ]
     },
     "execution_count": 17,
     "metadata": {},
     "output_type": "execute_result"
    }
   ],
   "source": [
    "d1.head()"
   ]
  },
  {
   "cell_type": "code",
   "execution_count": 18,
   "id": "9cf997c5",
   "metadata": {},
   "outputs": [],
   "source": [
    "d1=d1.drop(labels='index',axis=1)"
   ]
  },
  {
   "cell_type": "code",
   "execution_count": 19,
   "id": "d0fed003",
   "metadata": {},
   "outputs": [
    {
     "data": {
      "text/plain": [
       "(16536, 9)"
      ]
     },
     "execution_count": 19,
     "metadata": {},
     "output_type": "execute_result"
    }
   ],
   "source": [
    "d1.shape"
   ]
  },
  {
   "cell_type": "code",
   "execution_count": 20,
   "id": "582e707e",
   "metadata": {},
   "outputs": [
    {
     "data": {
      "text/html": [
       "<div>\n",
       "<style scoped>\n",
       "    .dataframe tbody tr th:only-of-type {\n",
       "        vertical-align: middle;\n",
       "    }\n",
       "\n",
       "    .dataframe tbody tr th {\n",
       "        vertical-align: top;\n",
       "    }\n",
       "\n",
       "    .dataframe thead th {\n",
       "        text-align: right;\n",
       "    }\n",
       "</style>\n",
       "<table border=\"1\" class=\"dataframe\">\n",
       "  <thead>\n",
       "    <tr style=\"text-align: right;\">\n",
       "      <th></th>\n",
       "      <th>title</th>\n",
       "      <th>projectname</th>\n",
       "      <th>builder</th>\n",
       "      <th>price</th>\n",
       "      <th>per_sqft</th>\n",
       "      <th>area</th>\n",
       "      <th>status</th>\n",
       "      <th>place</th>\n",
       "      <th>rating</th>\n",
       "    </tr>\n",
       "  </thead>\n",
       "  <tbody>\n",
       "    <tr>\n",
       "      <th>0</th>\n",
       "      <td>3  BHK  Apartment</td>\n",
       "      <td>Ecogreen Casa Traimbak</td>\n",
       "      <td>Eco Green Builders</td>\n",
       "      <td>6598000</td>\n",
       "      <td>4200</td>\n",
       "      <td>1571</td>\n",
       "      <td>Under Construction</td>\n",
       "      <td>Gundlapochampally</td>\n",
       "      <td>0.0</td>\n",
       "    </tr>\n",
       "    <tr>\n",
       "      <th>1</th>\n",
       "      <td>4  BHK  Villa</td>\n",
       "      <td>Elemental Village</td>\n",
       "      <td>Elemental Realty</td>\n",
       "      <td>14800000</td>\n",
       "      <td>7700</td>\n",
       "      <td>1930</td>\n",
       "      <td>Under Construction</td>\n",
       "      <td>Patancheru</td>\n",
       "      <td>0.0</td>\n",
       "    </tr>\n",
       "    <tr>\n",
       "      <th>2</th>\n",
       "      <td>4  BHK  Villa</td>\n",
       "      <td>Riddhi Laxman County</td>\n",
       "      <td>Riddhi Group</td>\n",
       "      <td>29900000</td>\n",
       "      <td>7200</td>\n",
       "      <td>4157</td>\n",
       "      <td>Under Construction</td>\n",
       "      <td>Tukkuguda</td>\n",
       "      <td>0.0</td>\n",
       "    </tr>\n",
       "    <tr>\n",
       "      <th>3</th>\n",
       "      <td>4  BHK  Villa</td>\n",
       "      <td>APR Praveens Hillside</td>\n",
       "      <td>APR Group</td>\n",
       "      <td>40800000</td>\n",
       "      <td>12000</td>\n",
       "      <td>3400</td>\n",
       "      <td>Under Construction</td>\n",
       "      <td>Bachupally</td>\n",
       "      <td>0.0</td>\n",
       "    </tr>\n",
       "    <tr>\n",
       "      <th>4</th>\n",
       "      <td>4  BHK  Villa</td>\n",
       "      <td>Sri GREENTECH O2 Community</td>\n",
       "      <td>Sri Aditya Squares</td>\n",
       "      <td>17500000</td>\n",
       "      <td>5500</td>\n",
       "      <td>3183</td>\n",
       "      <td>Under Construction</td>\n",
       "      <td>Ramachandrapuram</td>\n",
       "      <td>0.0</td>\n",
       "    </tr>\n",
       "  </tbody>\n",
       "</table>\n",
       "</div>"
      ],
      "text/plain": [
       "               title                 projectname             builder  \\\n",
       "0  3  BHK  Apartment      Ecogreen Casa Traimbak  Eco Green Builders   \n",
       "1      4  BHK  Villa           Elemental Village    Elemental Realty   \n",
       "2      4  BHK  Villa        Riddhi Laxman County        Riddhi Group   \n",
       "3      4  BHK  Villa       APR Praveens Hillside           APR Group   \n",
       "4      4  BHK  Villa  Sri GREENTECH O2 Community  Sri Aditya Squares   \n",
       "\n",
       "      price  per_sqft  area              status              place  rating  \n",
       "0   6598000      4200  1571  Under Construction  Gundlapochampally     0.0  \n",
       "1  14800000      7700  1930  Under Construction         Patancheru     0.0  \n",
       "2  29900000      7200  4157  Under Construction          Tukkuguda     0.0  \n",
       "3  40800000     12000  3400  Under Construction         Bachupally     0.0  \n",
       "4  17500000      5500  3183  Under Construction   Ramachandrapuram     0.0  "
      ]
     },
     "execution_count": 20,
     "metadata": {},
     "output_type": "execute_result"
    }
   ],
   "source": [
    "d1.head()"
   ]
  },
  {
   "cell_type": "code",
   "execution_count": 21,
   "id": "2839b956",
   "metadata": {},
   "outputs": [
    {
     "data": {
      "text/html": [
       "<div>\n",
       "<style scoped>\n",
       "    .dataframe tbody tr th:only-of-type {\n",
       "        vertical-align: middle;\n",
       "    }\n",
       "\n",
       "    .dataframe tbody tr th {\n",
       "        vertical-align: top;\n",
       "    }\n",
       "\n",
       "    .dataframe thead th {\n",
       "        text-align: right;\n",
       "    }\n",
       "</style>\n",
       "<table border=\"1\" class=\"dataframe\">\n",
       "  <thead>\n",
       "    <tr style=\"text-align: right;\">\n",
       "      <th></th>\n",
       "      <th>title</th>\n",
       "      <th>projectname</th>\n",
       "      <th>builder</th>\n",
       "      <th>price</th>\n",
       "      <th>per_sqft</th>\n",
       "      <th>area</th>\n",
       "      <th>status</th>\n",
       "      <th>place</th>\n",
       "      <th>rating</th>\n",
       "    </tr>\n",
       "  </thead>\n",
       "  <tbody>\n",
       "    <tr>\n",
       "      <th>16531</th>\n",
       "      <td>Residential Plot</td>\n",
       "      <td>Apple Gate Royal Farm</td>\n",
       "      <td>Soniya Estate</td>\n",
       "      <td>1123000</td>\n",
       "      <td>829</td>\n",
       "      <td>1354</td>\n",
       "      <td>Resale</td>\n",
       "      <td>Shankarpalli</td>\n",
       "      <td>0.0</td>\n",
       "    </tr>\n",
       "    <tr>\n",
       "      <th>16532</th>\n",
       "      <td>Residential Plot</td>\n",
       "      <td>Agrigold Fortune Bhagyanagar</td>\n",
       "      <td>Soniya Estate</td>\n",
       "      <td>1356000</td>\n",
       "      <td>831</td>\n",
       "      <td>1630</td>\n",
       "      <td>Resale</td>\n",
       "      <td>Kothur</td>\n",
       "      <td>0.0</td>\n",
       "    </tr>\n",
       "    <tr>\n",
       "      <th>16533</th>\n",
       "      <td>Residential Plot</td>\n",
       "      <td>In Style Residency</td>\n",
       "      <td>Soniya Estate</td>\n",
       "      <td>1250000</td>\n",
       "      <td>1045</td>\n",
       "      <td>1196</td>\n",
       "      <td>New</td>\n",
       "      <td>Vinayak Nagar</td>\n",
       "      <td>0.0</td>\n",
       "    </tr>\n",
       "    <tr>\n",
       "      <th>16534</th>\n",
       "      <td>Residential Plot</td>\n",
       "      <td>Agrigold Fortune Bhagyanagar</td>\n",
       "      <td>Soniya Estate</td>\n",
       "      <td>1352000</td>\n",
       "      <td>814</td>\n",
       "      <td>1660</td>\n",
       "      <td>Resale</td>\n",
       "      <td>Kothur</td>\n",
       "      <td>0.0</td>\n",
       "    </tr>\n",
       "    <tr>\n",
       "      <th>16535</th>\n",
       "      <td>Residential Plot</td>\n",
       "      <td>Agrigold Eco Joyland</td>\n",
       "      <td>Soniya Estate</td>\n",
       "      <td>1356000</td>\n",
       "      <td>681</td>\n",
       "      <td>1990</td>\n",
       "      <td>Resale</td>\n",
       "      <td>Shadnagar</td>\n",
       "      <td>0.0</td>\n",
       "    </tr>\n",
       "  </tbody>\n",
       "</table>\n",
       "</div>"
      ],
      "text/plain": [
       "                  title                   projectname        builder    price  \\\n",
       "16531  Residential Plot         Apple Gate Royal Farm  Soniya Estate  1123000   \n",
       "16532  Residential Plot  Agrigold Fortune Bhagyanagar  Soniya Estate  1356000   \n",
       "16533  Residential Plot            In Style Residency  Soniya Estate  1250000   \n",
       "16534  Residential Plot  Agrigold Fortune Bhagyanagar  Soniya Estate  1352000   \n",
       "16535  Residential Plot          Agrigold Eco Joyland  Soniya Estate  1356000   \n",
       "\n",
       "       per_sqft  area  status          place  rating  \n",
       "16531       829  1354  Resale   Shankarpalli     0.0  \n",
       "16532       831  1630  Resale         Kothur     0.0  \n",
       "16533      1045  1196     New  Vinayak Nagar     0.0  \n",
       "16534       814  1660  Resale         Kothur     0.0  \n",
       "16535       681  1990  Resale      Shadnagar     0.0  "
      ]
     },
     "execution_count": 21,
     "metadata": {},
     "output_type": "execute_result"
    }
   ],
   "source": [
    "d1.tail()"
   ]
  },
  {
   "cell_type": "code",
   "execution_count": 22,
   "id": "7899e50c",
   "metadata": {},
   "outputs": [
    {
     "name": "stdout",
     "output_type": "stream",
     "text": [
      "<class 'pandas.core.frame.DataFrame'>\n",
      "RangeIndex: 16536 entries, 0 to 16535\n",
      "Data columns (total 9 columns):\n",
      " #   Column       Non-Null Count  Dtype  \n",
      "---  ------       --------------  -----  \n",
      " 0   title        16536 non-null  object \n",
      " 1   projectname  5958 non-null   object \n",
      " 2   builder      16536 non-null  object \n",
      " 3   price        16536 non-null  int64  \n",
      " 4   per_sqft     16536 non-null  int32  \n",
      " 5   area         16536 non-null  int64  \n",
      " 6   status       16535 non-null  object \n",
      " 7   place        16536 non-null  object \n",
      " 8   rating       15391 non-null  float64\n",
      "dtypes: float64(1), int32(1), int64(2), object(5)\n",
      "memory usage: 1.1+ MB\n"
     ]
    }
   ],
   "source": [
    "d1.info()"
   ]
  },
  {
   "cell_type": "code",
   "execution_count": 23,
   "id": "eacc5513",
   "metadata": {},
   "outputs": [],
   "source": [
    "def values(x):\n",
    "    max_=d1[x].idxmax()\n",
    "    max_details=pd.DataFrame(d1.loc[max_])\n",
    "    \n",
    "    min_=d1[x].idxmin()\n",
    "    min_details=pd.DataFrame(d1.loc[min_])\n",
    "    \n",
    "    both=pd.concat([max_details,min_details],axis=1)\n",
    "    \n",
    "    return both"
   ]
  },
  {
   "cell_type": "code",
   "execution_count": 24,
   "id": "793685d8",
   "metadata": {},
   "outputs": [
    {
     "data": {
      "text/html": [
       "<div>\n",
       "<style scoped>\n",
       "    .dataframe tbody tr th:only-of-type {\n",
       "        vertical-align: middle;\n",
       "    }\n",
       "\n",
       "    .dataframe tbody tr th {\n",
       "        vertical-align: top;\n",
       "    }\n",
       "\n",
       "    .dataframe thead th {\n",
       "        text-align: right;\n",
       "    }\n",
       "</style>\n",
       "<table border=\"1\" class=\"dataframe\">\n",
       "  <thead>\n",
       "    <tr style=\"text-align: right;\">\n",
       "      <th></th>\n",
       "      <th>5430</th>\n",
       "      <th>9909</th>\n",
       "    </tr>\n",
       "  </thead>\n",
       "  <tbody>\n",
       "    <tr>\n",
       "      <th>title</th>\n",
       "      <td>Residential Plot</td>\n",
       "      <td>Residential Plot</td>\n",
       "    </tr>\n",
       "    <tr>\n",
       "      <th>projectname</th>\n",
       "      <td>NaN</td>\n",
       "      <td>NaN</td>\n",
       "    </tr>\n",
       "    <tr>\n",
       "      <th>builder</th>\n",
       "      <td>Venu Gopal</td>\n",
       "      <td>madhavi latha</td>\n",
       "    </tr>\n",
       "    <tr>\n",
       "      <th>price</th>\n",
       "      <td>720000000</td>\n",
       "      <td>130000</td>\n",
       "    </tr>\n",
       "    <tr>\n",
       "      <th>per_sqft</th>\n",
       "      <td>44444</td>\n",
       "      <td>119</td>\n",
       "    </tr>\n",
       "    <tr>\n",
       "      <th>area</th>\n",
       "      <td>16200</td>\n",
       "      <td>1089</td>\n",
       "    </tr>\n",
       "    <tr>\n",
       "      <th>status</th>\n",
       "      <td>Resale</td>\n",
       "      <td>New</td>\n",
       "    </tr>\n",
       "    <tr>\n",
       "      <th>place</th>\n",
       "      <td>Jubilee Hills</td>\n",
       "      <td>Narayankhed</td>\n",
       "    </tr>\n",
       "    <tr>\n",
       "      <th>rating</th>\n",
       "      <td>0.0</td>\n",
       "      <td>NaN</td>\n",
       "    </tr>\n",
       "  </tbody>\n",
       "</table>\n",
       "</div>"
      ],
      "text/plain": [
       "                         5430              9909\n",
       "title        Residential Plot  Residential Plot\n",
       "projectname               NaN               NaN\n",
       "builder            Venu Gopal     madhavi latha\n",
       "price               720000000            130000\n",
       "per_sqft                44444               119\n",
       "area                    16200              1089\n",
       "status                 Resale               New\n",
       "place           Jubilee Hills       Narayankhed\n",
       "rating                    0.0               NaN"
      ]
     },
     "execution_count": 24,
     "metadata": {},
     "output_type": "execute_result"
    }
   ],
   "source": [
    "values('price')"
   ]
  },
  {
   "cell_type": "code",
   "execution_count": 25,
   "id": "3599568f",
   "metadata": {},
   "outputs": [],
   "source": [
    "d3=d1[(d1['price']==0)]"
   ]
  },
  {
   "cell_type": "code",
   "execution_count": 26,
   "id": "246ea2f0",
   "metadata": {},
   "outputs": [
    {
     "data": {
      "text/html": [
       "<div>\n",
       "<style scoped>\n",
       "    .dataframe tbody tr th:only-of-type {\n",
       "        vertical-align: middle;\n",
       "    }\n",
       "\n",
       "    .dataframe tbody tr th {\n",
       "        vertical-align: top;\n",
       "    }\n",
       "\n",
       "    .dataframe thead th {\n",
       "        text-align: right;\n",
       "    }\n",
       "</style>\n",
       "<table border=\"1\" class=\"dataframe\">\n",
       "  <thead>\n",
       "    <tr style=\"text-align: right;\">\n",
       "      <th></th>\n",
       "      <th>title</th>\n",
       "      <th>projectname</th>\n",
       "      <th>builder</th>\n",
       "      <th>price</th>\n",
       "      <th>per_sqft</th>\n",
       "      <th>area</th>\n",
       "      <th>status</th>\n",
       "      <th>place</th>\n",
       "      <th>rating</th>\n",
       "    </tr>\n",
       "  </thead>\n",
       "  <tbody>\n",
       "  </tbody>\n",
       "</table>\n",
       "</div>"
      ],
      "text/plain": [
       "Empty DataFrame\n",
       "Columns: [title, projectname, builder, price, per_sqft, area, status, place, rating]\n",
       "Index: []"
      ]
     },
     "execution_count": 26,
     "metadata": {},
     "output_type": "execute_result"
    }
   ],
   "source": [
    "d3"
   ]
  },
  {
   "cell_type": "code",
   "execution_count": 28,
   "id": "16a15d5f",
   "metadata": {},
   "outputs": [
    {
     "data": {
      "text/html": [
       "<div>\n",
       "<style scoped>\n",
       "    .dataframe tbody tr th:only-of-type {\n",
       "        vertical-align: middle;\n",
       "    }\n",
       "\n",
       "    .dataframe tbody tr th {\n",
       "        vertical-align: top;\n",
       "    }\n",
       "\n",
       "    .dataframe thead th {\n",
       "        text-align: right;\n",
       "    }\n",
       "</style>\n",
       "<table border=\"1\" class=\"dataframe\">\n",
       "  <thead>\n",
       "    <tr style=\"text-align: right;\">\n",
       "      <th></th>\n",
       "      <th>price</th>\n",
       "      <th>per_sqft</th>\n",
       "      <th>area</th>\n",
       "      <th>rating</th>\n",
       "    </tr>\n",
       "  </thead>\n",
       "  <tbody>\n",
       "    <tr>\n",
       "      <th>count</th>\n",
       "      <td>1.653600e+04</td>\n",
       "      <td>16536.000000</td>\n",
       "      <td>16536.000000</td>\n",
       "      <td>15391.000000</td>\n",
       "    </tr>\n",
       "    <tr>\n",
       "      <th>mean</th>\n",
       "      <td>9.951595e+06</td>\n",
       "      <td>4703.206882</td>\n",
       "      <td>2086.550375</td>\n",
       "      <td>0.036905</td>\n",
       "    </tr>\n",
       "    <tr>\n",
       "      <th>std</th>\n",
       "      <td>1.984468e+07</td>\n",
       "      <td>4423.112990</td>\n",
       "      <td>8562.519981</td>\n",
       "      <td>0.418217</td>\n",
       "    </tr>\n",
       "    <tr>\n",
       "      <th>min</th>\n",
       "      <td>1.300000e+05</td>\n",
       "      <td>110.000000</td>\n",
       "      <td>118.000000</td>\n",
       "      <td>0.000000</td>\n",
       "    </tr>\n",
       "    <tr>\n",
       "      <th>25%</th>\n",
       "      <td>2.773500e+06</td>\n",
       "      <td>1555.000000</td>\n",
       "      <td>1285.000000</td>\n",
       "      <td>0.000000</td>\n",
       "    </tr>\n",
       "    <tr>\n",
       "      <th>50%</th>\n",
       "      <td>5.900000e+06</td>\n",
       "      <td>4500.000000</td>\n",
       "      <td>1625.000000</td>\n",
       "      <td>0.000000</td>\n",
       "    </tr>\n",
       "    <tr>\n",
       "      <th>75%</th>\n",
       "      <td>1.000000e+07</td>\n",
       "      <td>6284.000000</td>\n",
       "      <td>2072.000000</td>\n",
       "      <td>0.000000</td>\n",
       "    </tr>\n",
       "    <tr>\n",
       "      <th>max</th>\n",
       "      <td>7.200000e+08</td>\n",
       "      <td>128000.000000</td>\n",
       "      <td>871200.000000</td>\n",
       "      <td>4.800000</td>\n",
       "    </tr>\n",
       "  </tbody>\n",
       "</table>\n",
       "</div>"
      ],
      "text/plain": [
       "              price       per_sqft           area        rating\n",
       "count  1.653600e+04   16536.000000   16536.000000  15391.000000\n",
       "mean   9.951595e+06    4703.206882    2086.550375      0.036905\n",
       "std    1.984468e+07    4423.112990    8562.519981      0.418217\n",
       "min    1.300000e+05     110.000000     118.000000      0.000000\n",
       "25%    2.773500e+06    1555.000000    1285.000000      0.000000\n",
       "50%    5.900000e+06    4500.000000    1625.000000      0.000000\n",
       "75%    1.000000e+07    6284.000000    2072.000000      0.000000\n",
       "max    7.200000e+08  128000.000000  871200.000000      4.800000"
      ]
     },
     "execution_count": 28,
     "metadata": {},
     "output_type": "execute_result"
    }
   ],
   "source": [
    "d1.describe()"
   ]
  },
  {
   "cell_type": "code",
   "execution_count": 29,
   "id": "9a0abb20",
   "metadata": {},
   "outputs": [],
   "source": [
    "writer = pd.ExcelWriter('current2403.xlsx',engine ='xlsxwriter')\n",
    "d1.to_excel(writer, 'Sheet1')\n",
    "writer.save()"
   ]
  },
  {
   "cell_type": "code",
   "execution_count": 30,
   "id": "1e7d86fd",
   "metadata": {},
   "outputs": [],
   "source": [
    "df=pd.read_excel('current2403.xlsx',index_col=0)"
   ]
  },
  {
   "cell_type": "code",
   "execution_count": 31,
   "id": "d02768b7",
   "metadata": {},
   "outputs": [
    {
     "data": {
      "text/plain": [
       "(16536, 9)"
      ]
     },
     "execution_count": 31,
     "metadata": {},
     "output_type": "execute_result"
    }
   ],
   "source": [
    "df.shape"
   ]
  },
  {
   "cell_type": "code",
   "execution_count": 32,
   "id": "55a67f2c",
   "metadata": {},
   "outputs": [
    {
     "data": {
      "text/plain": [
       "Residential Plot              6889\n",
       "3  BHK  Apartment             3412\n",
       "2  BHK  Apartment             3397\n",
       "3  BHK  Villa                  592\n",
       "4  BHK  Villa                  552\n",
       "4  BHK  Apartment              333\n",
       "2  BHK  Independent House      333\n",
       "4  BHK  Independent House      176\n",
       "3  BHK  Independent House      160\n",
       "2  BHK  Independent Floor      159\n",
       "1  BHK  Apartment               85\n",
       "5  BHK  Villa                   75\n",
       "5  BHK  Apartment               66\n",
       "5  BHK  Independent House       63\n",
       "2  BHK  Villa                   54\n",
       "6  BHK  Independent House       39\n",
       "3  BHK  Independent Floor       27\n",
       "1  BHK  Independent House       23\n",
       "7  BHK  Independent House       15\n",
       "8  BHK  Independent House       14\n",
       "6  BHK  Villa                   13\n",
       "10  BHK  Independent House      11\n",
       "1  RK  Studio Apartment          9\n",
       "4  BHK  Independent Floor        8\n",
       "9  BHK  Independent House        6\n",
       "6  BHK  Independent Floor        4\n",
       "8  BHK  Villa                    3\n",
       "10  BHK  Villa                   3\n",
       "7  BHK  Apartment                3\n",
       "1  BHK  Villa                    3\n",
       "14  BHK  Independent Floor       1\n",
       "7  BHK  Villa                    1\n",
       "12  BHK  Independent House       1\n",
       "1  BHK  Independent Floor        1\n",
       "2  BHK  Penthouse                1\n",
       "8  BHK  Independent Floor        1\n",
       "10  BHK  Independent Floor       1\n",
       "5  BHK  Independent Floor        1\n",
       "6  BHK  Apartment                1\n",
       "Name: title, dtype: int64"
      ]
     },
     "execution_count": 32,
     "metadata": {},
     "output_type": "execute_result"
    }
   ],
   "source": [
    "df['title'].value_counts()"
   ]
  },
  {
   "cell_type": "code",
   "execution_count": 33,
   "id": "39b2f1c6",
   "metadata": {},
   "outputs": [],
   "source": [
    "df.set_index(keys='title',inplace=True)"
   ]
  },
  {
   "cell_type": "code",
   "execution_count": 34,
   "id": "50bbabb2",
   "metadata": {},
   "outputs": [
    {
     "data": {
      "text/plain": [
       "(16536, 8)"
      ]
     },
     "execution_count": 34,
     "metadata": {},
     "output_type": "execute_result"
    }
   ],
   "source": [
    "df.shape"
   ]
  },
  {
   "cell_type": "markdown",
   "id": "765f8b4c",
   "metadata": {},
   "source": [
    "## Residential Plot's"
   ]
  },
  {
   "cell_type": "code",
   "execution_count": 35,
   "id": "1755b1ec",
   "metadata": {},
   "outputs": [
    {
     "data": {
      "text/plain": [
       "(6889, 9)"
      ]
     },
     "execution_count": 35,
     "metadata": {},
     "output_type": "execute_result"
    }
   ],
   "source": [
    "d1=df.filter(like='Residential Plot',axis=0)\n",
    "d1.reset_index(inplace=True)\n",
    "d1.shape"
   ]
  },
  {
   "cell_type": "code",
   "execution_count": 36,
   "id": "240600f2",
   "metadata": {},
   "outputs": [],
   "source": [
    "import pandas as pd\n",
    "import matplotlib.pyplot as plt\n",
    "%matplotlib inline\n",
    "import seaborn as sns"
   ]
  },
  {
   "cell_type": "code",
   "execution_count": 37,
   "id": "6c1bdddf",
   "metadata": {},
   "outputs": [
    {
     "data": {
      "image/png": "[encoded data removed]",
      "text/plain": [
       "<Figure size 432x288 with 1 Axes>"
      ]
     },
     "metadata": {
      "needs_background": "light"
     },
     "output_type": "display_data"
    }
   ],
   "source": [
    "d_1=d1['title'].value_counts().plot.bar()\n",
    "plt.yscale('log')"
   ]
  },
  {
   "cell_type": "markdown",
   "id": "e29f4073",
   "metadata": {},
   "source": [
    "### Observation\n",
    "    There are almost 10k Residential plots in hyderabad."
   ]
  },
  {
   "cell_type": "markdown",
   "id": "3ccde619",
   "metadata": {},
   "source": [
    "## Apartment's"
   ]
  },
  {
   "cell_type": "code",
   "execution_count": 38,
   "id": "15faa32e",
   "metadata": {},
   "outputs": [
    {
     "data": {
      "text/plain": [
       "(7306, 9)"
      ]
     },
     "execution_count": 38,
     "metadata": {},
     "output_type": "execute_result"
    }
   ],
   "source": [
    "d2=df.filter(like='Apartment',axis=0)\n",
    "d2.reset_index(inplace=True)\n",
    "d2.shape"
   ]
  },
  {
   "cell_type": "code",
   "execution_count": 39,
   "id": "89aa3141",
   "metadata": {},
   "outputs": [
    {
     "data": {
      "text/plain": [
       "3  BHK  Apartment          3412\n",
       "2  BHK  Apartment          3397\n",
       "4  BHK  Apartment           333\n",
       "1  BHK  Apartment            85\n",
       "5  BHK  Apartment            66\n",
       "1  RK  Studio Apartment       9\n",
       "7  BHK  Apartment             3\n",
       "6  BHK  Apartment             1\n",
       "Name: title, dtype: int64"
      ]
     },
     "execution_count": 39,
     "metadata": {},
     "output_type": "execute_result"
    }
   ],
   "source": [
    "d4=d2['title'].value_counts()\n",
    "d4"
   ]
  },
  {
   "cell_type": "code",
   "execution_count": 40,
   "id": "f766898c",
   "metadata": {},
   "outputs": [
    {
     "data": {
      "image/png": "[encoded data removed]",
      "text/plain": [
       "<Figure size 432x288 with 1 Axes>"
      ]
     },
     "metadata": {
      "needs_background": "light"
     },
     "output_type": "display_data"
    }
   ],
   "source": [
    "d4.plot.bar()\n",
    "plt.yscale('log')"
   ]
  },
  {
   "cell_type": "markdown",
   "id": "03d0b8b2",
   "metadata": {},
   "source": [
    "### Observations\n",
    "##### There are almost 4k 2 BHK and # BHK's, 3k 2 BHK's, 300 4 BHK's, 300 1 BHK's etc."
   ]
  },
  {
   "cell_type": "markdown",
   "id": "5c80e267",
   "metadata": {},
   "source": [
    "## Villa's"
   ]
  },
  {
   "cell_type": "code",
   "execution_count": 41,
   "id": "e08b3bad",
   "metadata": {},
   "outputs": [
    {
     "data": {
      "text/plain": [
       "(1296, 9)"
      ]
     },
     "execution_count": 41,
     "metadata": {},
     "output_type": "execute_result"
    }
   ],
   "source": [
    "d3=df.filter(like='Villa',axis=0)\n",
    "d3.reset_index(inplace=True)\n",
    "d3.shape "
   ]
  },
  {
   "cell_type": "code",
   "execution_count": 42,
   "id": "8830d309",
   "metadata": {},
   "outputs": [
    {
     "data": {
      "text/plain": [
       "3  BHK  Villa     592\n",
       "4  BHK  Villa     552\n",
       "5  BHK  Villa      75\n",
       "2  BHK  Villa      54\n",
       "6  BHK  Villa      13\n",
       "10  BHK  Villa      3\n",
       "8  BHK  Villa       3\n",
       "1  BHK  Villa       3\n",
       "7  BHK  Villa       1\n",
       "Name: title, dtype: int64"
      ]
     },
     "execution_count": 42,
     "metadata": {},
     "output_type": "execute_result"
    }
   ],
   "source": [
    "d3_1=d3['title'].value_counts()\n",
    "d3_1"
   ]
  },
  {
   "cell_type": "code",
   "execution_count": 43,
   "id": "84f6c02b",
   "metadata": {},
   "outputs": [
    {
     "data": {
      "text/plain": [
       "<AxesSubplot:>"
      ]
     },
     "execution_count": 43,
     "metadata": {},
     "output_type": "execute_result"
    },
    {
     "data": {
      "image/png": "[encoded data removed]",
      "text/plain": [
       "<Figure size 432x288 with 1 Axes>"
      ]
     },
     "metadata": {
      "needs_background": "light"
     },
     "output_type": "display_data"
    }
   ],
   "source": [
    "d3_1.plot.bar()"
   ]
  },
  {
   "cell_type": "markdown",
   "id": "3598680d",
   "metadata": {},
   "source": [
    "## Observations\n",
    "####  There are more than 800 4 BHK Villa, 700 3 BHK Villa's, 150 5 BHK Villa's, 100 2 BHK Villa's, 50 6 BHK Villa's etc"
   ]
  },
  {
   "cell_type": "markdown",
   "id": "f581a702",
   "metadata": {},
   "source": [
    "## Independent House"
   ]
  },
  {
   "cell_type": "code",
   "execution_count": 44,
   "id": "304d4ace",
   "metadata": {},
   "outputs": [
    {
     "data": {
      "text/plain": [
       "(841, 9)"
      ]
     },
     "execution_count": 44,
     "metadata": {},
     "output_type": "execute_result"
    }
   ],
   "source": [
    "d4_=df.filter(like='Independent House',axis=0)\n",
    "d4_.reset_index(inplace=True)\n",
    "d4_.shape \n"
   ]
  },
  {
   "cell_type": "code",
   "execution_count": 45,
   "id": "fe163e79",
   "metadata": {},
   "outputs": [
    {
     "data": {
      "text/plain": [
       "2  BHK  Independent House     333\n",
       "4  BHK  Independent House     176\n",
       "3  BHK  Independent House     160\n",
       "5  BHK  Independent House      63\n",
       "6  BHK  Independent House      39\n",
       "1  BHK  Independent House      23\n",
       "7  BHK  Independent House      15\n",
       "8  BHK  Independent House      14\n",
       "10  BHK  Independent House     11\n",
       "9  BHK  Independent House       6\n",
       "12  BHK  Independent House      1\n",
       "Name: title, dtype: int64"
      ]
     },
     "execution_count": 45,
     "metadata": {},
     "output_type": "execute_result"
    }
   ],
   "source": [
    "d4__1=d4_['title'].value_counts()\n",
    "d4__1"
   ]
  },
  {
   "cell_type": "code",
   "execution_count": 46,
   "id": "f012ead7",
   "metadata": {},
   "outputs": [
    {
     "data": {
      "image/png": "[encoded data removed]",
      "text/plain": [
       "<Figure size 432x288 with 1 Axes>"
      ]
     },
     "metadata": {
      "needs_background": "light"
     },
     "output_type": "display_data"
    }
   ],
   "source": [
    "d4__1.plot.bar()\n",
    "plt.yscale('log')\n"
   ]
  },
  {
   "cell_type": "markdown",
   "id": "4611ff02",
   "metadata": {},
   "source": [
    "### Observations\n",
    "#### There are almost  629 2 BHK, 279 4 BHK, 255 3 BHK, 150 4 BHK, 40 5 BHk independent houses..."
   ]
  },
  {
   "cell_type": "markdown",
   "id": "e473c32e",
   "metadata": {},
   "source": [
    "## Independent Floor"
   ]
  },
  {
   "cell_type": "code",
   "execution_count": 47,
   "id": "20b79be9",
   "metadata": {},
   "outputs": [
    {
     "data": {
      "text/plain": [
       "(203, 9)"
      ]
     },
     "execution_count": 47,
     "metadata": {},
     "output_type": "execute_result"
    }
   ],
   "source": [
    "d5=df.filter(like='Independent Floor',axis=0)\n",
    "d5.reset_index(inplace=True)\n",
    "d5.shape "
   ]
  },
  {
   "cell_type": "code",
   "execution_count": 48,
   "id": "453f930d",
   "metadata": {},
   "outputs": [
    {
     "data": {
      "text/plain": [
       "2  BHK  Independent Floor     159\n",
       "3  BHK  Independent Floor      27\n",
       "4  BHK  Independent Floor       8\n",
       "6  BHK  Independent Floor       4\n",
       "5  BHK  Independent Floor       1\n",
       "10  BHK  Independent Floor      1\n",
       "1  BHK  Independent Floor       1\n",
       "8  BHK  Independent Floor       1\n",
       "14  BHK  Independent Floor      1\n",
       "Name: title, dtype: int64"
      ]
     },
     "execution_count": 48,
     "metadata": {},
     "output_type": "execute_result"
    }
   ],
   "source": [
    "d5_1=d5['title'].value_counts()\n",
    "d5_1\n"
   ]
  },
  {
   "cell_type": "code",
   "execution_count": 49,
   "id": "8008ec8a",
   "metadata": {},
   "outputs": [
    {
     "data": {
      "text/plain": [
       "<AxesSubplot:>"
      ]
     },
     "execution_count": 49,
     "metadata": {},
     "output_type": "execute_result"
    },
    {
     "data": {
      "image/png": "[encoded data removed]",
      "text/plain": [
       "<Figure size 432x288 with 1 Axes>"
      ]
     },
     "metadata": {
      "needs_background": "light"
     },
     "output_type": "display_data"
    }
   ],
   "source": [
    "d5_1.plot.bar()\n"
   ]
  },
  {
   "cell_type": "markdown",
   "id": "28d556c3",
   "metadata": {},
   "source": [
    "### Observations\n"
   ]
  },
  {
   "cell_type": "markdown",
   "id": "d3bfadd8",
   "metadata": {},
   "source": [
    "## Penthouse\n"
   ]
  },
  {
   "cell_type": "code",
   "execution_count": 50,
   "id": "249a8278",
   "metadata": {},
   "outputs": [
    {
     "data": {
      "text/plain": [
       "(1, 9)"
      ]
     },
     "execution_count": 50,
     "metadata": {},
     "output_type": "execute_result"
    }
   ],
   "source": [
    "d6=df.filter(like='Penthouse',axis=0)\n",
    "d6.reset_index(inplace=True)\n",
    "d6.shape"
   ]
  },
  {
   "cell_type": "code",
   "execution_count": 51,
   "id": "b4b073d2",
   "metadata": {},
   "outputs": [
    {
     "data": {
      "text/plain": [
       "2  BHK  Penthouse    1\n",
       "Name: title, dtype: int64"
      ]
     },
     "execution_count": 51,
     "metadata": {},
     "output_type": "execute_result"
    }
   ],
   "source": [
    "d6_1=d6['title'].value_counts()\n",
    "d6_1\n"
   ]
  },
  {
   "cell_type": "code",
   "execution_count": 52,
   "id": "0c5e0c79",
   "metadata": {},
   "outputs": [
    {
     "data": {
      "text/plain": [
       "2  BHK  Penthouse    1\n",
       "Name: title, dtype: int64"
      ]
     },
     "execution_count": 52,
     "metadata": {},
     "output_type": "execute_result"
    }
   ],
   "source": [
    "d6_1=d6['title'].value_counts()\n",
    "d6_1\n"
   ]
  },
  {
   "cell_type": "code",
   "execution_count": 53,
   "id": "6c376482",
   "metadata": {},
   "outputs": [
    {
     "data": {
      "text/plain": [
       "<AxesSubplot:>"
      ]
     },
     "execution_count": 53,
     "metadata": {},
     "output_type": "execute_result"
    },
    {
     "data": {
      "image/png": "[encoded data removed]",
      "text/plain": [
       "<Figure size 432x288 with 1 Axes>"
      ]
     },
     "metadata": {
      "needs_background": "light"
     },
     "output_type": "display_data"
    }
   ],
   "source": [
    "d6_1.plot.bar()\n"
   ]
  },
  {
   "cell_type": "markdown",
   "id": "4c09c150",
   "metadata": {},
   "source": [
    "## Building Status"
   ]
  },
  {
   "cell_type": "code",
   "execution_count": 54,
   "id": "31dff0ea",
   "metadata": {},
   "outputs": [
    {
     "data": {
      "text/plain": [
       "New                   5518\n",
       "Under Construction    5276\n",
       "Ready to move         4370\n",
       "Resale                1371\n",
       "Name: status, dtype: int64"
      ]
     },
     "execution_count": 54,
     "metadata": {},
     "output_type": "execute_result"
    }
   ],
   "source": [
    "df1=df['status'].value_counts()\n",
    "df1"
   ]
  },
  {
   "cell_type": "code",
   "execution_count": 55,
   "id": "337e81d6",
   "metadata": {},
   "outputs": [
    {
     "data": {
      "image/png": "[encoded data removed]",
      "text/plain": [
       "<Figure size 432x288 with 1 Axes>"
      ]
     },
     "metadata": {
      "needs_background": "light"
     },
     "output_type": "display_data"
    }
   ],
   "source": [
    "df1.plot.bar()\n",
    "plt.yscale('log')"
   ]
  },
  {
   "cell_type": "markdown",
   "id": "1ad28ed5",
   "metadata": {},
   "source": [
    "## Price "
   ]
  },
  {
   "cell_type": "code",
   "execution_count": 56,
   "id": "6ef1151a",
   "metadata": {},
   "outputs": [],
   "source": [
    "dk=pd.DataFrame(df)"
   ]
  },
  {
   "cell_type": "code",
   "execution_count": 57,
   "id": "ad13c63a",
   "metadata": {},
   "outputs": [
    {
     "data": {
      "text/plain": [
       "Index(['projectname', 'builder', 'price', 'per_sqft', 'area', 'status',\n",
       "       'place', 'rating'],\n",
       "      dtype='object')"
      ]
     },
     "execution_count": 57,
     "metadata": {},
     "output_type": "execute_result"
    }
   ],
   "source": [
    "dk.columns\n"
   ]
  },
  {
   "cell_type": "code",
   "execution_count": 68,
   "id": "74f83d1b",
   "metadata": {},
   "outputs": [
    {
     "data": {
      "text/plain": [
       "<AxesSubplot:xlabel='projectname'>"
      ]
     },
     "execution_count": 68,
     "metadata": {},
     "output_type": "execute_result"
    },
    {
     "data": {
      "image/png": "[encoded data removed]",
      "text/plain": [
       "<Figure size 432x288 with 1 Axes>"
      ]
     },
     "metadata": {
      "needs_background": "light"
     },
     "output_type": "display_data"
    }
   ],
   "source": [
    "dk.plot.bar('projectname','price')"
   ]
  },
  {
   "cell_type": "code",
   "execution_count": null,
   "id": "5f4bc0d9",
   "metadata": {},
   "outputs": [],
   "source": []
  }
 ],
 "metadata": {
  "kernelspec": {
   "display_name": "Python 3 (ipykernel)",
   "language": "python",
   "name": "python3"
  },
  "language_info": {
   "codemirror_mode": {
    "name": "ipython",
    "version": 3
   },
   "file_extension": ".py",
   "mimetype": "text/x-python",
   "name": "python",
   "nbconvert_exporter": "python",
   "pygments_lexer": "ipython3",
   "version": "3.9.7"
  }
 },
 "nbformat": 4,
 "nbformat_minor": 5
}
